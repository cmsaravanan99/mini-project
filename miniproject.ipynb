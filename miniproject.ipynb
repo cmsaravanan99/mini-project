{
  "nbformat": 4,
  "nbformat_minor": 0,
  "metadata": {
    "colab": {
      "name": "miniproject.ipynb",
      "provenance": [],
      "authorship_tag": "ABX9TyP2C90gr/uqc7BFrbXZ+pWB",
      "include_colab_link": true
    },
    "kernelspec": {
      "name": "python3",
      "display_name": "Python 3"
    }
  },
  "cells": [
    {
      "cell_type": "markdown",
      "metadata": {
        "id": "view-in-github",
        "colab_type": "text"
      },
      "source": [
        "<a href=\"https://colab.research.google.com/github/cmsaravanan99/mini-project/blob/main/miniproject.ipynb\" target=\"_parent\"><img src=\"https://colab.research.google.com/assets/colab-badge.svg\" alt=\"Open In Colab\"/></a>"
      ]
    },
    {
      "cell_type": "code",
      "metadata": {
        "id": "AnWKsjPIhqRi"
      },
      "source": [
        "!pip install pydrive\n"
      ],
      "execution_count": null,
      "outputs": []
    },
    {
      "cell_type": "code",
      "metadata": {
        "id": "VkIlb0NaigS2"
      },
      "source": [
        "import os\n",
        "from pydrive.auth import GoogleAuth\n",
        "from pydrive.drive import GoogleDrive\n",
        "from google.colab import auth\n",
        "from oauth2client.client import GoogleCredentials"
      ],
      "execution_count": 3,
      "outputs": []
    },
    {
      "cell_type": "code",
      "metadata": {
        "id": "EXJXC8XYioGu"
      },
      "source": [
        "auth.authenticate_user()\n",
        "gauth = GoogleAuth()\n",
        "gauth.credentials = GoogleCredentials.get_application_default()\n",
        "drive = GoogleDrive(gauth)"
      ],
      "execution_count": 5,
      "outputs": []
    },
    {
      "cell_type": "code",
      "metadata": {
        "id": "wzXwfIIfi55a"
      },
      "source": [
        "# Replace the id and filename in the below codes\n",
        "download = drive.CreateFile({'id': '1ZCzHDAfwgLdQke_GNnHp_4OheRRtNPs-'})\n",
        "download.GetContentFile('Train_UQcUa52.zip')\n",
        "!unzip Train_UQcUa52.zip"
      ],
      "execution_count": null,
      "outputs": []
    },
    {
      "cell_type": "code",
      "metadata": {
        "id": "kGNZH5GKjj4O"
      },
      "source": [
        "# Importing libraries\n",
        "import keras\n",
        "from keras.models import Sequential\n",
        "from keras.layers import Dense, Dropout, Flatten\n",
        "from keras.layers import Conv2D, MaxPooling2D\n",
        "from keras.utils import to_categorical\n",
        "from keras.preprocessing import image\n",
        "import numpy as np\n",
        "import pandas as pd\n",
        "import matplotlib.pyplot as plt\n",
        "from sklearn.model_selection import train_test_split\n",
        "from keras.utils import to_categorical\n",
        "from tqdm import tqdm"
      ],
      "execution_count": 9,
      "outputs": []
    },
    {
      "cell_type": "code",
      "metadata": {
        "id": "1PNQNVv9joeU"
      },
      "source": [
        "train = pd.read_csv('train.csv')"
      ],
      "execution_count": null,
      "outputs": []
    },
    {
      "cell_type": "code",
      "metadata": {
        "id": "haeF_1OQj0aN"
      },
      "source": [
        "# Reading the training images\n",
        "train_image = []\n",
        "for i in tqdm(range(train.shape[0])):\n",
        "    img = image.load_img('Images/train/'+train['filename'][i], target_size=(28,28,1), grayscale=True)\n",
        "    img = image.img_to_array(img)\n",
        "    img = img/255\n",
        "    train_image.append(img)\n",
        "X = np.array(train_image)"
      ],
      "execution_count": null,
      "outputs": []
    },
    {
      "cell_type": "code",
      "metadata": {
        "id": "J4Mxfs_Lj8nm"
      },
      "source": [
        "# Creating the target variable\n",
        "y=train['label'].values\n",
        "y = to_categorical(y)"
      ],
      "execution_count": null,
      "outputs": []
    },
    {
      "cell_type": "code",
      "metadata": {
        "id": "-GgL0G0wkG4w"
      },
      "source": [
        "# Creating validation set\n",
        "X_train, X_test, y_train, y_test = train_test_split(X, y, random_state=42, test_size=0.2)\n"
      ],
      "execution_count": null,
      "outputs": []
    },
    {
      "cell_type": "code",
      "metadata": {
        "id": "bEbTuWVakcCS"
      },
      "source": [
        "# Define the model structure\n",
        "model = Sequential()\n",
        "model.add(Conv2D(32, kernel_size=(3, 3),activation='relu',input_shape=(28,28,1)))\n",
        "model.add(Conv2D(64, (3, 3), activation='relu'))\n",
        "model.add(MaxPooling2D(pool_size=(2, 2)))\n",
        "model.add(Dropout(0.25))\n",
        "model.add(Flatten())\n",
        "model.add(Dense(128, activation='relu'))\n",
        "model.add(Dropout(0.5))\n",
        "model.add(Dense(10, activation='softmax'))"
      ],
      "execution_count": null,
      "outputs": []
    },
    {
      "cell_type": "code",
      "metadata": {
        "id": "3dxY9Vhykh-Y"
      },
      "source": [
        "# Compile the model\n",
        "model.compile(loss='categorical_crossentropy',optimizer='Adam',metrics=['accuracy'])"
      ],
      "execution_count": null,
      "outputs": []
    },
    {
      "cell_type": "code",
      "metadata": {
        "id": "ls-4rQc2kqHX"
      },
      "source": [
        "# Training the model\n",
        "model.fit(X_train, y_train, epochs=10, validation_data=(X_test, y_test))"
      ],
      "execution_count": null,
      "outputs": []
    },
    {
      "cell_type": "code",
      "metadata": {
        "id": "NsIwXv-jkuAZ"
      },
      "source": [
        "download = drive.CreateFile({'id': '1zHJR6yiI06ao-UAh_LXZQRIOzBO3sNDq'})\n",
        "download.GetContentFile('Test_fCbTej3.csv')"
      ],
      "execution_count": null,
      "outputs": []
    },
    {
      "cell_type": "code",
      "metadata": {
        "id": "ziu8XLiOkxuU"
      },
      "source": [
        "test_file = pd.read_csv('Test_fCbTej3.csv')"
      ],
      "execution_count": null,
      "outputs": []
    },
    {
      "cell_type": "code",
      "metadata": {
        "id": "droSDXmQk5ki"
      },
      "source": [
        "test_image = []\n",
        "for i in tqdm(range(test_file.shape[0])):\n",
        "    img = image.load_img('Images/test/'+test_file['filename'][i], target_size=(28,28,1), grayscale=True)\n",
        "    img = image.img_to_array(img)\n",
        "    img = img/255\n",
        "    test_image.append(img)\n",
        "test = np.array(test_image)"
      ],
      "execution_count": null,
      "outputs": []
    },
    {
      "cell_type": "code",
      "metadata": {
        "id": "L4p6jJkLlBAp"
      },
      "source": [
        "prediction = model.predict_classes(test)\n"
      ],
      "execution_count": null,
      "outputs": []
    },
    {
      "cell_type": "code",
      "metadata": {
        "id": "EOE8WaTwlCah"
      },
      "source": [
        "download = drive.CreateFile({'id': '1nRz5bD7ReGrdinpdFcHVIEyjqtPGPyHx'})\n",
        "download.GetContentFile('Sample_Submission_lxuyBuB.csv')"
      ],
      "execution_count": null,
      "outputs": []
    },
    {
      "cell_type": "code",
      "metadata": {
        "id": "ib-4GKB-lSmy"
      },
      "source": [
        "sample = pd.read_csv('Sample_Submission_lxuyBuB.csv')\n",
        "sample['filename'] = test_file['filename']\n",
        "sample['label'] = prediction\n",
        "sample.to_csv('sample.csv', header=True, index=False)"
      ],
      "execution_count": null,
      "outputs": []
    }
  ]
}